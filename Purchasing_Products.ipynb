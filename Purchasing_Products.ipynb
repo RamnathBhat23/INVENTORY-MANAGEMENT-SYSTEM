{
 "cells": [
  {
   "cell_type": "markdown",
   "metadata": {
    "id": "J_EiuG5X5r2a"
   },
   "source": [
    "THIS CODE IS FOR PURCHASING GOODS"
   ]
  },
  {
   "cell_type": "code",
   "execution_count": 1,
   "metadata": {
    "id": "m0fhY2985lyA"
   },
   "outputs": [],
   "source": [
    "import json\n",
    "fd = open(\"record.json\",'r')\n",
    "\n",
    "t = fd.read()\n",
    "\n",
    "fd.close()"
   ]
  },
  {
   "cell_type": "markdown",
   "metadata": {
    "id": "oUKMUxGd5yid"
   },
   "source": [
    "LOADING LIST FROM FILE"
   ]
  },
  {
   "cell_type": "code",
   "execution_count": 2,
   "metadata": {},
   "outputs": [
    {
     "data": {
      "text/plain": [
       "{'1': {'name': 'Pen',\n",
       "  'quantity': 10,\n",
       "  'price': 10,\n",
       "  'Brand': 'Cello',\n",
       "  'Size': '15 cms'},\n",
       " '2': {'name': 'Pencil',\n",
       "  'quantity': 14,\n",
       "  'price': 5,\n",
       "  'Brand': 'Natraj',\n",
       "  'Size': '15 cms'},\n",
       " '3': {'name': 'Ruler',\n",
       "  'quantity': 5,\n",
       "  'price': 15,\n",
       "  'Brand': 'Camel',\n",
       "  'Size': '15'},\n",
       " '4': {'name': 'Eraser',\n",
       "  'quantity': 12,\n",
       "  'price': 5,\n",
       "  'Brand': 'Natraj',\n",
       "  'Size': '5 cms'},\n",
       " '5': {'name': 'Long Book',\n",
       "  'quantity': 30,\n",
       "  'price': 60,\n",
       "  'Brand': 'Classmate',\n",
       "  'Size': '65 cms'},\n",
       " '6': {'name': 'Notebook',\n",
       "  'quantity': 20,\n",
       "  'price': 40,\n",
       "  'Brand': 'Classmate',\n",
       "  'Size': '45 cms'},\n",
       " '7': {'name': 'Paint Brush',\n",
       "  'quantity': 5,\n",
       "  'price': 90,\n",
       "  'Brand': 'Camel',\n",
       "  'Size': '15 cms'},\n",
       " '8': {'name': 'Water Colour',\n",
       "  'quantity': 10,\n",
       "  'price': 50,\n",
       "  'Brand': 'Camel',\n",
       "  'Size': '35 cms'},\n",
       " '9': {'name': 'Crayons',\n",
       "  'quantity': 10,\n",
       "  'price': 45,\n",
       "  'Brand': 'Camel',\n",
       "  'Size': '15 cms'},\n",
       " '10': {'name': 'Bond Paper',\n",
       "  'quantity': 30,\n",
       "  'price': 20,\n",
       "  'Brand': 'Cello',\n",
       "  'Size': '25 cms'},\n",
       " '11': {'name': 'Full Scape Paper',\n",
       "  'quantity': 30,\n",
       "  'price': 5,\n",
       "  'Brand': 'Koyuko',\n",
       "  'Size': '50 cms'},\n",
       " '12': {'name': 'Files',\n",
       "  'quantity': 10,\n",
       "  'price': 30,\n",
       "  'Brand': 'Raj',\n",
       "  'Size': '50 cms'},\n",
       " '13': {'name': 'Sketch Pen',\n",
       "  'quantity': 20,\n",
       "  'price': 25,\n",
       "  'Brand': 'Camel',\n",
       "  'Size': '15 cms'},\n",
       " '14': {'name': 'Marker',\n",
       "  'quantity': 5,\n",
       "  'price': 30,\n",
       "  'Brand': 'Fabe-Castle',\n",
       "  'Size': '15 cms'},\n",
       " '15': {'name': 'Sharpener',\n",
       "  'quantity': 15,\n",
       "  'price': 5,\n",
       "  'Brand': 'Cello',\n",
       "  'Size': '5 cms'},\n",
       " '16': {'name': 'Colour Paper',\n",
       "  'quantity': 25,\n",
       "  'price': 40,\n",
       "  'Brand': 'Navneet',\n",
       "  'Size': '15 cms'},\n",
       " '17': {'name': 'Stapler',\n",
       "  'quantity': 5,\n",
       "  'price': 150,\n",
       "  'Brand': 'Kangaro',\n",
       "  'Size': '15 cms'},\n",
       " '18': {'name': 'Stapler Pins',\n",
       "  'quantity': 10,\n",
       "  'price': 15,\n",
       "  'Brand': 'Kangaro',\n",
       "  'Size': '15 cms'},\n",
       " '19': {'name': 'Refils',\n",
       "  'quantity': 20,\n",
       "  'price': 5,\n",
       "  'Brand': 'Cello',\n",
       "  'Size': '15 cms'},\n",
       " '20': {'name': 'Gum',\n",
       "  'quantity': 15,\n",
       "  'price': 10,\n",
       "  'Brand': 'Fevicol',\n",
       "  'Size': '10 cms'},\n",
       " '21': {'name': 'Tape',\n",
       "  'quantity': 10,\n",
       "  'price': 15,\n",
       "  'Brand': 'Cello',\n",
       "  'total': '10 cms'},\n",
       " '22': {'name': 'Calculator',\n",
       "  'quantity': 5,\n",
       "  'price': 1000,\n",
       "  'Brand': 'Casio',\n",
       "  'Size': '30 cms'},\n",
       " '23': {'name': 'Chart Paper',\n",
       "  'quantity': 10,\n",
       "  'price': 15,\n",
       "  'Brand': 'Navneet',\n",
       "  'Size': '30 cms'},\n",
       " '24': {'name': 'Scissors',\n",
       "  'quantity': 5,\n",
       "  'price': 145,\n",
       "  'Brand': 'Kangaro',\n",
       "  'Size': '80 cms'},\n",
       " '25': {'name': 'Glitter',\n",
       "  'quantity': 10,\n",
       "  'price': 15,\n",
       "  'Brand': 'Fabe-Castle',\n",
       "  'Size': '15 cms'},\n",
       " '26': {'name': 'Thermocol',\n",
       "  'quantity': 5,\n",
       "  'price': 250,\n",
       "  'Brand': 'Cello',\n",
       "  'Size': '150 cms'},\n",
       " '27': {'name': 'Pouch',\n",
       "  'quantity': 5,\n",
       "  'price': 450,\n",
       "  'Brand': 'Skybag',\n",
       "  'Size': '45 cms'},\n",
       " '28': {'name': 'Geometry Compass',\n",
       "  'quantity': 120,\n",
       "  'price': 149.0,\n",
       "  'Brand': 'Koyuko',\n",
       "  'Size': '25 cms'},\n",
       " '29': {'name': 'Stickers',\n",
       "  'quantity': 20,\n",
       "  'price': 15,\n",
       "  'Brand': 'Raj',\n",
       "  'Size': '15 cms'},\n",
       " '30': {'name': 'Calender',\n",
       "  'quantity': 5,\n",
       "  'price': 100,\n",
       "  'Brand': 'Navneet',\n",
       "  'Size': '30 cms'},\n",
       " '33': {'name': 'PlayClay',\n",
       "  'quantity': 5,\n",
       "  'price': 300,\n",
       "  'Brand': 'Funskool',\n",
       "  'Size': '25 cms'},\n",
       " '34': {'name': 'GunStick',\n",
       "  'quantity': 5,\n",
       "  'price': 320,\n",
       "  'Brand': 'Zen',\n",
       "  'Size': '30 cms'}}"
      ]
     },
     "execution_count": 2,
     "metadata": {},
     "output_type": "execute_result"
    }
   ],
   "source": [
    "dic = json.loads(t)\n",
    "dic"
   ]
  },
  {
   "cell_type": "code",
   "execution_count": 81,
   "metadata": {
    "id": "1YsgMKfB5v-f"
   },
   "outputs": [
    {
     "name": "stdout",
     "output_type": "stream",
     "text": [
      "\n",
      "----------------------------------\n",
      "Welcome to My Stationary Inventory\n",
      "----------------------------------\n",
      "1.View Inventory List\n",
      "2.Check Item by ID\n",
      "3.Buy item\n",
      "4.Exit\n",
      "----------------------------------\n"
     ]
    }
   ],
   "source": [
    "print('''\n",
    "----------------------------------\n",
    "Welcome to My Stationary Inventory\n",
    "----------------------------------\n",
    "1.View Inventory List\n",
    "2.Check Item by ID\n",
    "3.Buy item\n",
    "4.Exit\n",
    "----------------------------------''')"
   ]
  },
  {
   "cell_type": "code",
   "execution_count": 82,
   "metadata": {},
   "outputs": [],
   "source": [
    "#To view the items available in the market and also selecting the products of there choice by choosing choice 1"
   ]
  },
  {
   "cell_type": "code",
   "execution_count": 8,
   "metadata": {
    "id": "wGPYJfQN50jC"
   },
   "outputs": [
    {
     "name": "stdout",
     "output_type": "stream",
     "text": [
      "Enter your Choice :3\n",
      "Enter the ID of Item to be bought : 4\n",
      "Enter the Quantity Of Item to be Bought : 3\n",
      "Product:  Eraser\n",
      "Price:  5\n",
      "Billing Amount:  15\n"
     ]
    }
   ],
   "source": [
    "import time\n",
    "choice = int(input(\"Enter your Choice :\"))\n",
    "if choice == 1:\n",
    "  print('----------------------------------')\n",
    "  print(\"Display list\")\n",
    "  make=list(dic)\n",
    "  dic=dict(dic)\n",
    "  for i in make:\n",
    "        print(i,dic[i]['name'])\n",
    "  print('----------------------------------')\n",
    "\n",
    "elif choice == 2:\n",
    "    \n",
    "    print('----------------------------------')\n",
    "    ui_prod=(input(\"Enter the ID of Item to be bought to check specifications : \"))\n",
    "    print(\"Product Name: \",dic[ui_prod]['name'])\n",
    "    print(\"Product Price: \",dic[ui_prod]['price'])\n",
    "    print(\"Brand: \",dic[ui_prod]['Brand'])\n",
    "    print(\"Length: \",dic[ui_prod]['Size'])\n",
    "\n",
    "elif choice == 3:\n",
    "    ui_prod=(input(\"Enter the ID of Item to be bought : \"))\n",
    "    ui_quant=(input(\"Enter the Quantity Of Item to be Bought : \"))  \n",
    "    print(\"Product: \",dic[ui_prod]['name'])\n",
    "    print(\"Price: \",dic[ui_prod]['price'])\n",
    "    if(int(dic[ui_prod]['quantity'])>=int(ui_quant)):\n",
    "        dic[ui_prod]['quantity']=dic[ui_prod]['quantity']-int(ui_quant)\n",
    "        print(\"Billing Amount: \",dic[ui_prod]['price']*int(ui_quant))\n",
    "        sales={ui_prod:{'name':dic[ui_prod]['name'],'price':dic[ui_prod]['price'],'quantity':dic[ui_prod]['quantity'],'Brand':dic[ui_prod]['Brand'],'Size':dic[ui_prod]['Size'],\"time\":time.ctime()}}\n",
    "        \n",
    "        js = json.dumps(dic)\n",
    "        fd = open(\"record.json\",'w')\n",
    "        fd.write(js)\n",
    "        fd.close()\n",
    "    else:\n",
    "        print(\"Required Quantity is not Available!\")\n",
    "        print(\"Only \",dic[ui_prod]['quantity'],\" item is avialable \")\n",
    "        \n",
    "\n",
    "elif choice == 4 :\n",
    "    print(\"You Entered Exit! Good Bye\")\n",
    "\n",
    "else:\n",
    "    print(\"Wrong Choice\")"
   ]
  },
  {
   "cell_type": "markdown",
   "metadata": {
    "id": "GkFCcRRw50ok"
   },
   "source": [
    "Sales Json"
   ]
  },
  {
   "cell_type": "code",
   "execution_count": 91,
   "metadata": {},
   "outputs": [],
   "source": [
    "#To buy the products and total cost of it by choosing choice 2"
   ]
  },
  {
   "cell_type": "code",
   "execution_count": 9,
   "metadata": {},
   "outputs": [],
   "source": [
    "js = json.dumps(sales)\n",
    "\n",
    "fd = open(\"sales.json\",'a')\n",
    "\n",
    "fd.write(js)\n",
    "\n",
    "fd.close()"
   ]
  },
  {
   "cell_type": "code",
   "execution_count": 10,
   "metadata": {},
   "outputs": [],
   "source": [
    "fd = open(\"sales.json\", 'r')\n",
    "t = fd.read()\n",
    "fd.close()"
   ]
  },
  {
   "cell_type": "code",
   "execution_count": 11,
   "metadata": {},
   "outputs": [
    {
     "data": {
      "text/plain": [
       "'{\"3\": {\"name\": \"Ruler\", \"price\": 15, \"quantity\": 1, \"Brand\": \"Camel\", \"Size\": \"15\", \"time\": \"Mon Sep  6 18:42:39 2021\"}}{\"4\": {\"name\": \"Eraser\", \"price\": 5, \"quantity\": 9, \"Brand\": \"Natraj\", \"Size\": \"5 cms\", \"time\": \"Mon Sep  6 18:43:10 2021\"}}'"
      ]
     },
     "execution_count": 11,
     "metadata": {},
     "output_type": "execute_result"
    }
   ],
   "source": [
    "t"
   ]
  },
  {
   "cell_type": "code",
   "execution_count": null,
   "metadata": {},
   "outputs": [],
   "source": []
  }
 ],
 "metadata": {
  "colab": {
   "name": "Purchasing Products.ipynb",
   "provenance": []
  },
  "kernelspec": {
   "display_name": "Python 3",
   "language": "python",
   "name": "python3"
  },
  "language_info": {
   "codemirror_mode": {
    "name": "ipython",
    "version": 3
   },
   "file_extension": ".py",
   "mimetype": "text/x-python",
   "name": "python",
   "nbconvert_exporter": "python",
   "pygments_lexer": "ipython3",
   "version": "3.8.5"
  }
 },
 "nbformat": 4,
 "nbformat_minor": 1
}
